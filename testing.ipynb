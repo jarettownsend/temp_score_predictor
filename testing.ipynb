{
 "cells": [
  {
   "cell_type": "code",
   "execution_count": 2,
   "metadata": {},
   "outputs": [],
   "source": [
    "from weather.weather import get_weather, convert_weather_to_df, get_past_weather, convert_past_weather_to_df\n",
    "import os\n",
    "import requests\n",
    "import logging\n",
    "import pandas as pd"
   ]
  },
  {
   "cell_type": "markdown",
   "metadata": {},
   "source": [
    "## Creating CSV"
   ]
  },
  {
   "cell_type": "code",
   "execution_count": 15,
   "metadata": {},
   "outputs": [],
   "source": [
    "import pandas as pd\n",
    "\n",
    "# Define the data in a list of dictionaries format\n",
    "# Data come from: https://www.kaggle.com/datasets/teaspice/nfl-home-stadium-coordinates\n",
    "import pandas as pd\n",
    "\n",
    "# Define the data with city names added\n",
    "data = [\n",
    "    {\"homeTeamAbbr\": \"HOU\", \"roof\": \"retractable\", \"surface\": \"turf\", \"lat\": 29.684723, \"long\": -95.410835, \"City\": \"Houston\"},\n",
    "    {\"homeTeamAbbr\": \"SEA\", \"roof\": \"no\", \"surface\": \"turf\", \"lat\": 47.5952, \"long\": -122.3316, \"City\": \"Seattle\"},\n",
    "    {\"homeTeamAbbr\": \"BUF\", \"roof\": \"no\", \"surface\": \"turf\", \"lat\": 42.774, \"long\": -78.787, \"City\": \"Buffalo\"},\n",
    "    {\"homeTeamAbbr\": \"PIT\", \"roof\": \"no\", \"surface\": \"grass\", \"lat\": 40.446667, \"long\": -80.01583, \"City\": \"Pittsburgh\"},\n",
    "    {\"homeTeamAbbr\": \"ARI\", \"roof\": \"retractable\", \"surface\": \"grass\", \"lat\": 33.528, \"long\": -112.263, \"City\": \"Phoenix\"},\n",
    "    {\"homeTeamAbbr\": \"LA\", \"roof\": \"yes\", \"surface\": \"turf\", \"lat\": 33.953, \"long\": -118.339, \"City\": \"Los Angeles\"},\n",
    "    {\"homeTeamAbbr\": \"MIA\", \"roof\": \"no\", \"surface\": \"grass\", \"lat\": 25.958055, \"long\": -80.23889, \"City\": \"Miami\"},\n",
    "    {\"homeTeamAbbr\": \"BAL\", \"roof\": \"no\", \"surface\": \"grass\", \"lat\": 39.278057, \"long\": -76.62278, \"City\": \"Baltimore\"},\n",
    "    {\"homeTeamAbbr\": \"CLE\", \"roof\": \"no\", \"surface\": \"grass\", \"lat\": 41.50611, \"long\": -81.69945, \"City\": \"Cleveland\"},\n",
    "    {\"homeTeamAbbr\": \"DEN\", \"roof\": \"no\", \"surface\": \"grass\", \"lat\": 39.74389, \"long\": -105.02, \"City\": \"Denver\"},\n",
    "    {\"homeTeamAbbr\": \"DET\", \"roof\": \"yes\", \"surface\": \"turf\", \"lat\": 42.34, \"long\": -83.045555, \"City\": \"Detroit\"},\n",
    "    {\"homeTeamAbbr\": \"SF\", \"roof\": \"no\", \"surface\": \"grass\", \"lat\": 37.403, \"long\": -121.97, \"City\": \"San Francisco\"},\n",
    "    {\"homeTeamAbbr\": \"LV\", \"roof\": \"yes\", \"surface\": \"grass\", \"lat\": 36.090557, \"long\": -115.18389, \"City\": \"Las Vegas\"},\n",
    "    {\"homeTeamAbbr\": \"KC\", \"roof\": \"no\", \"surface\": \"grass\", \"lat\": 39.04889, \"long\": -94.48389, \"City\": \"Kansas City\"},\n",
    "    {\"homeTeamAbbr\": \"NE\", \"roof\": \"no\", \"surface\": \"turf\", \"lat\": 42.091, \"long\": -71.264, \"City\": \"Foxborough\"},\n",
    "    {\"homeTeamAbbr\": \"NO\", \"roof\": \"yes\", \"surface\": \"turf\", \"lat\": 29.950832, \"long\": -90.08111, \"City\": \"New Orleans\"},\n",
    "    {\"homeTeamAbbr\": \"TEN\", \"roof\": \"no\", \"surface\": \"turf\", \"lat\": 36.16639, \"long\": -86.771385, \"City\": \"Nashville\"},\n",
    "    {\"homeTeamAbbr\": \"LAC\", \"roof\": \"yes\", \"surface\": \"turf\", \"lat\": 33.953, \"long\": -118.339, \"City\": \"Los Angeles\"},\n",
    "    {\"homeTeamAbbr\": \"CIN\", \"roof\": \"no\", \"surface\": \"turf\", \"lat\": 39.095, \"long\": -84.516, \"City\": \"Cincinnati\"},\n",
    "    {\"homeTeamAbbr\": \"NYG\", \"roof\": \"no\", \"surface\": \"turf\", \"lat\": 40.8, \"long\": -74.066666, \"City\": \"East Rutherford\"},\n",
    "    {\"homeTeamAbbr\": \"JAX\", \"roof\": \"no\", \"surface\": \"grass\", \"lat\": 30.323889, \"long\": -81.6375, \"City\": \"Jacksonville\"},\n",
    "    {\"homeTeamAbbr\": \"TB\", \"roof\": \"no\", \"surface\": \"grass\", \"lat\": 27.975834, \"long\": -82.503334, \"City\": \"Tampa\"},\n",
    "    {\"homeTeamAbbr\": \"ATL\", \"roof\": \"retractable\", \"surface\": \"turf\", \"lat\": 33.755554, \"long\": -84.4, \"City\": \"Atlanta\"},\n",
    "    {\"homeTeamAbbr\": \"MIN\", \"roof\": \"yes\", \"surface\": \"turf\", \"lat\": 44.974, \"long\": -93.258, \"City\": \"Minneapolis\"},\n",
    "    {\"homeTeamAbbr\": \"DAL\", \"roof\": \"retractable\", \"surface\": \"turf\", \"lat\": 32.747776, \"long\": -97.09278, \"City\": \"Dallas\"},\n",
    "    {\"homeTeamAbbr\": \"CAR\", \"roof\": \"no\", \"surface\": \"turf\", \"lat\": 35.225834, \"long\": -80.852776, \"City\": \"Charlotte\"},\n",
    "    {\"homeTeamAbbr\": \"GB\", \"roof\": \"no\", \"surface\": \"grass\", \"lat\": 44.50139, \"long\": -88.062225, \"City\": \"Green Bay\"},\n",
    "    {\"homeTeamAbbr\": \"CHI\", \"roof\": \"no\", \"surface\": \"grass\", \"lat\": 41.8623, \"long\": -87.6167, \"City\": \"Chicago\"},\n",
    "    {\"homeTeamAbbr\": \"NYJ\", \"roof\": \"no\", \"surface\": \"turf\", \"lat\": 40.8, \"long\": -74.066666, \"City\": \"East Rutherford\"},\n",
    "    {\"homeTeamAbbr\": \"PHI\", \"roof\": \"no\", \"surface\": \"grass\", \"lat\": 36.900833, \"long\": -75.1675, \"City\": \"Philadelphia\"},\n",
    "    {\"homeTeamAbbr\": \"IND\", \"roof\": \"retractable\", \"surface\": \"turf\", \"lat\": 39.75, \"long\": -86.15, \"City\": \"Indianapolis\"},\n",
    "    {\"homeTeamAbbr\": \"WAS\", \"roof\": \"no\", \"surface\": \"grass\", \"lat\": 38.907776, \"long\": -76.86444, \"City\": \"Landover\"}\n",
    "]\n",
    "\n",
    "# Create DataFrame\n",
    "df = pd.DataFrame(data)"
   ]
  },
  {
   "cell_type": "markdown",
   "metadata": {},
   "source": [
    "## Current Weather API"
   ]
  },
  {
   "cell_type": "code",
   "execution_count": 7,
   "metadata": {},
   "outputs": [],
   "source": [
    "df = get_weather('Denver')\n",
    "new_df = convert_weather_to_df(df)"
   ]
  },
  {
   "cell_type": "code",
   "execution_count": 8,
   "metadata": {},
   "outputs": [
    {
     "data": {
      "text/html": [
       "<div>\n",
       "<style scoped>\n",
       "    .dataframe tbody tr th:only-of-type {\n",
       "        vertical-align: middle;\n",
       "    }\n",
       "\n",
       "    .dataframe tbody tr th {\n",
       "        vertical-align: top;\n",
       "    }\n",
       "\n",
       "    .dataframe thead th {\n",
       "        text-align: right;\n",
       "    }\n",
       "</style>\n",
       "<table border=\"1\" class=\"dataframe\">\n",
       "  <thead>\n",
       "    <tr style=\"text-align: right;\">\n",
       "      <th></th>\n",
       "      <th>Timestamp</th>\n",
       "      <th>Readable Time</th>\n",
       "      <th>Temperature</th>\n",
       "      <th>Description</th>\n",
       "    </tr>\n",
       "  </thead>\n",
       "  <tbody>\n",
       "    <tr>\n",
       "      <th>0</th>\n",
       "      <td>1726099200</td>\n",
       "      <td>2024-09-11 18:00:00</td>\n",
       "      <td>78.386</td>\n",
       "      <td>light rain</td>\n",
       "    </tr>\n",
       "    <tr>\n",
       "      <th>1</th>\n",
       "      <td>1726110000</td>\n",
       "      <td>2024-09-11 21:00:00</td>\n",
       "      <td>74.570</td>\n",
       "      <td>light rain</td>\n",
       "    </tr>\n",
       "    <tr>\n",
       "      <th>2</th>\n",
       "      <td>1726120800</td>\n",
       "      <td>2024-09-12 00:00:00</td>\n",
       "      <td>71.402</td>\n",
       "      <td>broken clouds</td>\n",
       "    </tr>\n",
       "  </tbody>\n",
       "</table>\n",
       "</div>"
      ],
      "text/plain": [
       "    Timestamp       Readable Time  Temperature    Description\n",
       "0  1726099200 2024-09-11 18:00:00       78.386     light rain\n",
       "1  1726110000 2024-09-11 21:00:00       74.570     light rain\n",
       "2  1726120800 2024-09-12 00:00:00       71.402  broken clouds"
      ]
     },
     "execution_count": 8,
     "metadata": {},
     "output_type": "execute_result"
    }
   ],
   "source": [
    "new_df.head(3)"
   ]
  },
  {
   "cell_type": "markdown",
   "metadata": {},
   "source": [
    "## Historical Weather API"
   ]
  },
  {
   "cell_type": "code",
   "execution_count": 3,
   "metadata": {},
   "outputs": [],
   "source": [
    "visutalcrossing_api_key = os.environ[\"VISUALCROSSING_API_KEY\"]\n",
    "start_date = '2024-06-13T00:00:00'\n",
    "end_date = '2024-06-20T00:00:00'\n",
    "longtiude = 39.74\n",
    "latitude = -104.99"
   ]
  },
  {
   "cell_type": "code",
   "execution_count": 4,
   "metadata": {},
   "outputs": [],
   "source": [
    "df = get_past_weather(longtiude, latitude, start_date, end_date)\n",
    "new_df = convert_past_weather_to_df(df)"
   ]
  },
  {
   "cell_type": "code",
   "execution_count": 6,
   "metadata": {},
   "outputs": [
    {
     "data": {
      "text/html": [
       "<div>\n",
       "<style scoped>\n",
       "    .dataframe tbody tr th:only-of-type {\n",
       "        vertical-align: middle;\n",
       "    }\n",
       "\n",
       "    .dataframe tbody tr th {\n",
       "        vertical-align: top;\n",
       "    }\n",
       "\n",
       "    .dataframe thead th {\n",
       "        text-align: right;\n",
       "    }\n",
       "</style>\n",
       "<table border=\"1\" class=\"dataframe\">\n",
       "  <thead>\n",
       "    <tr style=\"text-align: right;\">\n",
       "      <th></th>\n",
       "      <th>wdir</th>\n",
       "      <th>temp</th>\n",
       "      <th>maxt</th>\n",
       "      <th>visibility</th>\n",
       "      <th>wspd</th>\n",
       "      <th>datetimeStr</th>\n",
       "      <th>solarenergy</th>\n",
       "      <th>heatindex</th>\n",
       "      <th>cloudcover</th>\n",
       "      <th>mint</th>\n",
       "      <th>...</th>\n",
       "      <th>snowdepth</th>\n",
       "      <th>sealevelpressure</th>\n",
       "      <th>snow</th>\n",
       "      <th>dew</th>\n",
       "      <th>humidity</th>\n",
       "      <th>precipcover</th>\n",
       "      <th>wgust</th>\n",
       "      <th>conditions</th>\n",
       "      <th>windchill</th>\n",
       "      <th>info</th>\n",
       "    </tr>\n",
       "  </thead>\n",
       "  <tbody>\n",
       "    <tr>\n",
       "      <th>0</th>\n",
       "      <td>174.35</td>\n",
       "      <td>78.7</td>\n",
       "      <td>94.7</td>\n",
       "      <td>9.9</td>\n",
       "      <td>20.4</td>\n",
       "      <td>2024-06-13T00:00:00-06:00</td>\n",
       "      <td>20.5</td>\n",
       "      <td>90.2</td>\n",
       "      <td>48.6</td>\n",
       "      <td>61.6</td>\n",
       "      <td>...</td>\n",
       "      <td>None</td>\n",
       "      <td>1010.7</td>\n",
       "      <td>None</td>\n",
       "      <td>43.9</td>\n",
       "      <td>32.65</td>\n",
       "      <td>0.00</td>\n",
       "      <td>38.9</td>\n",
       "      <td>Partially cloudy</td>\n",
       "      <td>None</td>\n",
       "      <td>None</td>\n",
       "    </tr>\n",
       "    <tr>\n",
       "      <th>1</th>\n",
       "      <td>178.50</td>\n",
       "      <td>70.4</td>\n",
       "      <td>78.9</td>\n",
       "      <td>9.9</td>\n",
       "      <td>15.3</td>\n",
       "      <td>2024-06-14T00:00:00-06:00</td>\n",
       "      <td>13.8</td>\n",
       "      <td>NaN</td>\n",
       "      <td>72.3</td>\n",
       "      <td>59.4</td>\n",
       "      <td>...</td>\n",
       "      <td>None</td>\n",
       "      <td>1011.9</td>\n",
       "      <td>None</td>\n",
       "      <td>52.4</td>\n",
       "      <td>55.33</td>\n",
       "      <td>4.17</td>\n",
       "      <td>29.9</td>\n",
       "      <td>Rain, Partially cloudy</td>\n",
       "      <td>None</td>\n",
       "      <td>None</td>\n",
       "    </tr>\n",
       "  </tbody>\n",
       "</table>\n",
       "<p>2 rows × 24 columns</p>\n",
       "</div>"
      ],
      "text/plain": [
       "     wdir  temp  maxt  visibility  wspd                datetimeStr  \\\n",
       "0  174.35  78.7  94.7         9.9  20.4  2024-06-13T00:00:00-06:00   \n",
       "1  178.50  70.4  78.9         9.9  15.3  2024-06-14T00:00:00-06:00   \n",
       "\n",
       "   solarenergy  heatindex  cloudcover  mint  ...  snowdepth  sealevelpressure  \\\n",
       "0         20.5       90.2        48.6  61.6  ...       None            1010.7   \n",
       "1         13.8        NaN        72.3  59.4  ...       None            1011.9   \n",
       "\n",
       "   snow   dew humidity  precipcover wgust              conditions  windchill  \\\n",
       "0  None  43.9    32.65         0.00  38.9        Partially cloudy       None   \n",
       "1  None  52.4    55.33         4.17  29.9  Rain, Partially cloudy       None   \n",
       "\n",
       "   info  \n",
       "0  None  \n",
       "1  None  \n",
       "\n",
       "[2 rows x 24 columns]"
      ]
     },
     "execution_count": 6,
     "metadata": {},
     "output_type": "execute_result"
    }
   ],
   "source": [
    "new_df.head(2)"
   ]
  }
 ],
 "metadata": {
  "kernelspec": {
   "display_name": "data-analyses-8gNgiJVt-py3.10",
   "language": "python",
   "name": "python3"
  },
  "language_info": {
   "codemirror_mode": {
    "name": "ipython",
    "version": 3
   },
   "file_extension": ".py",
   "mimetype": "text/x-python",
   "name": "python",
   "nbconvert_exporter": "python",
   "pygments_lexer": "ipython3",
   "version": "3.10.0"
  }
 },
 "nbformat": 4,
 "nbformat_minor": 2
}
