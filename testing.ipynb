{
 "cells": [
  {
   "cell_type": "code",
   "execution_count": 3,
   "metadata": {},
   "outputs": [
    {
     "name": "stdout",
     "output_type": "stream",
     "text": [
      "{'coord': {'lon': -0.1257, 'lat': 51.5085}, 'weather': [{'id': 804, 'main': 'Clouds', 'description': 'overcast clouds', 'icon': '04d'}], 'base': 'stations', 'main': {'temp': 291.65, 'feels_like': 291.54, 'temp_min': 290.96, 'temp_max': 292.59, 'pressure': 1020, 'humidity': 76, 'sea_level': 1020, 'grnd_level': 1015}, 'visibility': 10000, 'wind': {'speed': 6.17, 'deg': 70}, 'clouds': {'all': 100}, 'dt': 1725128686, 'sys': {'type': 2, 'id': 2075535, 'country': 'GB', 'sunrise': 1725081132, 'sunset': 1725130183}, 'timezone': 3600, 'id': 2643743, 'name': 'London', 'cod': 200}\n"
     ]
    }
   ],
   "source": [
    "import requests\n",
    "import time\n",
    "import os\n",
    "\n",
    "\n",
    "\n",
    "api_key = os.environ[\"OPENWEATHERMAP_API_KEY\"]\n",
    "\n",
    "\n",
    "# Test API Call\n",
    "url = f\"https://api.openweathermap.org/data/2.5/weather?q=London,uk&APPID={api_key}\"\n",
    "\n",
    "response = requests.get(url)\n",
    "\n",
    "if response.status_code == 200:\n",
    "\n",
    "    data = response.json()\n",
    "\n",
    "    print(data)\n",
    "else:\n",
    "    print(\"Failed to get data:\", response.status_code)"
   ]
  },
  {
   "cell_type": "code",
   "execution_count": null,
   "metadata": {},
   "outputs": [],
   "source": []
  }
 ],
 "metadata": {
  "kernelspec": {
   "display_name": "data-analyses-8gNgiJVt-py3.10",
   "language": "python",
   "name": "python3"
  },
  "language_info": {
   "codemirror_mode": {
    "name": "ipython",
    "version": 3
   },
   "file_extension": ".py",
   "mimetype": "text/x-python",
   "name": "python",
   "nbconvert_exporter": "python",
   "pygments_lexer": "ipython3",
   "version": "3.10.0"
  }
 },
 "nbformat": 4,
 "nbformat_minor": 2
}
